{
 "cells": [
  {
   "cell_type": "code",
   "execution_count": 7,
   "metadata": {},
   "outputs": [],
   "source": [
    "def move(state):\n",
    "    return sorted([len(state)] + [a - 1 for a in state if a > 1])\n",
    "\n",
    "def play(initial_state):\n",
    "    seen_states = []\n",
    "    state = initial_state\n",
    "    while state not in seen_states:\n",
    "        seen_states.append(state)\n",
    "        print(state)\n",
    "        state = move(state)\n",
    "    print(\"{} (Game over; already saw this state)\".format(state))"
   ]
  },
  {
   "cell_type": "code",
   "execution_count": 8,
   "metadata": {},
   "outputs": [
    {
     "name": "stdout",
     "output_type": "stream",
     "text": [
      "[1, 4, 5, 2]\n",
      "[1, 3, 4, 4]\n",
      "[2, 3, 3, 4]\n",
      "[1, 2, 2, 3, 4]\n",
      "[1, 1, 2, 3, 5]\n",
      "[1, 2, 4, 5]\n",
      "[1, 3, 4, 4] (Game over; already saw this state)\n"
     ]
    }
   ],
   "source": [
    "play([1,4,5,2])"
   ]
  }
 ],
 "metadata": {
  "kernelspec": {
   "display_name": "Python 3",
   "language": "python",
   "name": "python3"
  },
  "language_info": {
   "codemirror_mode": {
    "name": "ipython",
    "version": 3
   },
   "file_extension": ".py",
   "mimetype": "text/x-python",
   "name": "python",
   "nbconvert_exporter": "python",
   "pygments_lexer": "ipython3",
   "version": "3.7.3"
  }
 },
 "nbformat": 4,
 "nbformat_minor": 2
}
